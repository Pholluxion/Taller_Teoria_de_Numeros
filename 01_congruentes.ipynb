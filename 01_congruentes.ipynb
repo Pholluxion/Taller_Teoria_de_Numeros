{
 "cells": [
  {
   "cell_type": "markdown",
   "id": "f91c8adc",
   "metadata": {},
   "source": [
    "# "
   ]
  },
  {
   "cell_type": "markdown",
   "id": "4f81bf0d",
   "metadata": {},
   "source": [
    " 1. Defina una función **son_congruentes(a,b,m)** cuyo output es el string **\"Si!\"** si , **\"NO!\"** en caso contrario."
   ]
  },
  {
   "cell_type": "markdown",
   "id": "eb240ae2",
   "metadata": {},
   "source": [
    "# "
   ]
  },
  {
   "cell_type": "code",
   "execution_count": 19,
   "id": "c8c73524",
   "metadata": {},
   "outputs": [],
   "source": [
    "def  son_congruentes(a,b,m):\n",
    "    \n",
    "    if(m != 0):\n",
    "        \n",
    "        if(a%m == b%m):\n",
    "            return \"Si!\"\n",
    "        else:\n",
    "            return \"NO!\"\n",
    "    else:\n",
    "        return \"m is a invalid number, can't be zero\""
   ]
  },
  {
   "cell_type": "code",
   "execution_count": 20,
   "id": "b946722c",
   "metadata": {},
   "outputs": [
    {
     "name": "stdout",
     "output_type": "stream",
     "text": [
      "Si!\n"
     ]
    }
   ],
   "source": [
    "print(son_congruentes(6,4,2))"
   ]
  },
  {
   "cell_type": "code",
   "execution_count": 21,
   "id": "d325c210",
   "metadata": {},
   "outputs": [
    {
     "name": "stdout",
     "output_type": "stream",
     "text": [
      "NO!\n"
     ]
    }
   ],
   "source": [
    "print(son_congruentes(1,7,4))"
   ]
  },
  {
   "cell_type": "code",
   "execution_count": 22,
   "id": "a4674f15",
   "metadata": {},
   "outputs": [
    {
     "name": "stdout",
     "output_type": "stream",
     "text": [
      "Si!\n"
     ]
    }
   ],
   "source": [
    "print(son_congruentes(100,20,5))"
   ]
  },
  {
   "cell_type": "code",
   "execution_count": 23,
   "id": "b8a4ff83",
   "metadata": {},
   "outputs": [
    {
     "name": "stdout",
     "output_type": "stream",
     "text": [
      "m is a invalid number, can't be zero\n"
     ]
    }
   ],
   "source": [
    "print(son_congruentes(8,1,0))"
   ]
  },
  {
   "cell_type": "code",
   "execution_count": null,
   "id": "9bf0305f",
   "metadata": {},
   "outputs": [],
   "source": []
  }
 ],
 "metadata": {
  "kernelspec": {
   "display_name": "Python 3 (ipykernel)",
   "language": "python",
   "name": "python3"
  },
  "language_info": {
   "codemirror_mode": {
    "name": "ipython",
    "version": 3
   },
   "file_extension": ".py",
   "mimetype": "text/x-python",
   "name": "python",
   "nbconvert_exporter": "python",
   "pygments_lexer": "ipython3",
   "version": "3.9.7"
  }
 },
 "nbformat": 4,
 "nbformat_minor": 5
}
