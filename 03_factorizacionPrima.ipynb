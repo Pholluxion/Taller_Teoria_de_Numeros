{
 "cells": [
  {
   "cell_type": "markdown",
   "id": "fb1fc824",
   "metadata": {},
   "source": [
    " "
   ]
  },
  {
   "cell_type": "markdown",
   "id": "d8bda9cb",
   "metadata": {},
   "source": [
    "**3.** El Teorema Fundamental de la Aritmética menciona que todo número se puede descomponer de forma única como producto de factores primos. Por ejemplo $60 = 2^2*3^1*5^1$. Codifique una función **factoriza(n)** que reciba un entero positivo $n$ y cuyo output sea un array donde la primera fila contiene los numeros primosde la factorización en orden ascendente y la segunda fila contiene las potencias correspondientes. Por ejemplo **factoriza(60)** el output será el **numpy array[[2,3,5],[2,1,1]]**.\n",
    "\n",
    "Adicionalmente cree una función llamada **test(?,?,..?)** (como usted desee) que le ayude a verificar los calculos que hizo la función factoriza."
   ]
  },
  {
   "cell_type": "markdown",
   "id": "90ed3c28",
   "metadata": {},
   "source": [
    " "
   ]
  },
  {
   "cell_type": "code",
   "execution_count": 2,
   "id": "97bdfec7",
   "metadata": {},
   "outputs": [],
   "source": [
    "import numpy as np\n",
    "from collections import Counter\n",
    "\n",
    "def isPrime(n):\n",
    "    '''\n",
    "        input: n ->  Entero positivo\n",
    "        output: True or False\n",
    "        \n",
    "    '''\n",
    "    band =  0\n",
    "    for i in range(2,n):\n",
    "        if(n%i==0):\n",
    "            band+=1\n",
    "    if(n == 1):\n",
    "        return False\n",
    "    elif(band>0):\n",
    "        return False\n",
    "    else:\n",
    "        return True\n",
    "\n",
    "    \n",
    "def factoriza(n): \n",
    "    '''\n",
    "        input: n ->  Entero positivo\n",
    "        output: np.array[[],[]]\n",
    "        \n",
    "    '''\n",
    "    primes = []\n",
    "\n",
    "    for i in range(1,n+1):\n",
    "        if(n%i == 0):\n",
    "            if(isPrime(i)):\n",
    "                primes.append(i)\n",
    "\n",
    "    vals = []\n",
    "    vals2 = []\n",
    "    coef = []\n",
    "\n",
    "    while(n!=1):\n",
    "        for p in primes:\n",
    "            if(n%p==0):\n",
    "                vals.append(p)\n",
    "                   \n",
    "                n/=p\n",
    "\n",
    "    vals.sort()\n",
    "    for k,v in Counter(vals).items():\n",
    "        coef.append(v)\n",
    "        vals2.append(k)\n",
    "\n",
    "    return np.array([vals2,coef])"
   ]
  },
  {
   "cell_type": "code",
   "execution_count": 3,
   "id": "4f68fcab",
   "metadata": {},
   "outputs": [
    {
     "data": {
      "text/plain": [
       "array([[2, 3, 5],\n",
       "       [2, 1, 1]])"
      ]
     },
     "execution_count": 3,
     "metadata": {},
     "output_type": "execute_result"
    }
   ],
   "source": [
    "factoriza(60)"
   ]
  },
  {
   "cell_type": "code",
   "execution_count": 4,
   "id": "39104d4f",
   "metadata": {},
   "outputs": [
    {
     "data": {
      "text/plain": [
       "array([[2, 5],\n",
       "       [1, 1]])"
      ]
     },
     "execution_count": 4,
     "metadata": {},
     "output_type": "execute_result"
    }
   ],
   "source": [
    "factoriza(10)"
   ]
  },
  {
   "cell_type": "code",
   "execution_count": 5,
   "id": "6a3b6bae",
   "metadata": {},
   "outputs": [
    {
     "data": {
      "text/plain": [
       "array([[2, 5],\n",
       "       [2, 2]])"
      ]
     },
     "execution_count": 5,
     "metadata": {},
     "output_type": "execute_result"
    }
   ],
   "source": [
    "factoriza(100)"
   ]
  },
  {
   "cell_type": "code",
   "execution_count": 6,
   "id": "91f86530",
   "metadata": {},
   "outputs": [
    {
     "data": {
      "text/plain": [
       "array([[2, 5],\n",
       "       [2, 3]])"
      ]
     },
     "execution_count": 6,
     "metadata": {},
     "output_type": "execute_result"
    }
   ],
   "source": [
    "factoriza(500)"
   ]
  },
  {
   "cell_type": "code",
   "execution_count": 7,
   "id": "04c1d1cb",
   "metadata": {},
   "outputs": [
    {
     "data": {
      "text/plain": [
       "array([[ 3, 37],\n",
       "       [ 3,  1]])"
      ]
     },
     "execution_count": 7,
     "metadata": {},
     "output_type": "execute_result"
    }
   ],
   "source": [
    "factoriza(999)"
   ]
  },
  {
   "cell_type": "code",
   "execution_count": 8,
   "id": "3f383a94",
   "metadata": {},
   "outputs": [
    {
     "data": {
      "text/plain": [
       "array([[19, 29],\n",
       "       [ 1,  1]])"
      ]
     },
     "execution_count": 8,
     "metadata": {},
     "output_type": "execute_result"
    }
   ],
   "source": [
    "factoriza(551)"
   ]
  },
  {
   "cell_type": "code",
   "execution_count": 88,
   "id": "3d374f33",
   "metadata": {},
   "outputs": [],
   "source": [
    "import unittest\n",
    "\n",
    "def test(n,expectedValue):\n",
    "\n",
    "    np.testing.assert_array_equal(factoriza(n),expectedValue,err_msg='-> El test falló', verbose=False)\n",
    "    \n",
    "    unittest.main(argv=[''], verbosity=0, exit=False)"
   ]
  },
  {
   "cell_type": "code",
   "execution_count": 89,
   "id": "0b6b5579",
   "metadata": {},
   "outputs": [
    {
     "name": "stderr",
     "output_type": "stream",
     "text": [
      "----------------------------------------------------------------------\n",
      "Ran 1 test in 0.000s\n",
      "\n",
      "OK\n"
     ]
    }
   ],
   "source": [
    "test(60,np.array([[2, 3, 5],[2, 1, 1]]))"
   ]
  },
  {
   "cell_type": "code",
   "execution_count": 91,
   "id": "b416e5c6",
   "metadata": {},
   "outputs": [
    {
     "name": "stderr",
     "output_type": "stream",
     "text": [
      "----------------------------------------------------------------------\n",
      "Ran 1 test in 0.000s\n",
      "\n",
      "OK\n"
     ]
    }
   ],
   "source": [
    "test(50,np.array([[2, 5],[1, 2]]))"
   ]
  },
  {
   "cell_type": "code",
   "execution_count": 93,
   "id": "49b25aec",
   "metadata": {},
   "outputs": [
    {
     "name": "stderr",
     "output_type": "stream",
     "text": [
      "----------------------------------------------------------------------\n",
      "Ran 1 test in 0.000s\n",
      "\n",
      "OK\n"
     ]
    }
   ],
   "source": [
    "test(24,np.array([[2, 3],[3, 1]]))"
   ]
  },
  {
   "cell_type": "code",
   "execution_count": 97,
   "id": "8804c070",
   "metadata": {},
   "outputs": [
    {
     "name": "stderr",
     "output_type": "stream",
     "text": [
      "----------------------------------------------------------------------\n",
      "Ran 1 test in 0.000s\n",
      "\n",
      "OK\n"
     ]
    }
   ],
   "source": [
    "test(25,np.array([[5],[2]]))"
   ]
  },
  {
   "cell_type": "code",
   "execution_count": null,
   "id": "d06b4f5b",
   "metadata": {},
   "outputs": [],
   "source": []
  }
 ],
 "metadata": {
  "kernelspec": {
   "display_name": "Python 3 (ipykernel)",
   "language": "python",
   "name": "python3"
  },
  "language_info": {
   "codemirror_mode": {
    "name": "ipython",
    "version": 3
   },
   "file_extension": ".py",
   "mimetype": "text/x-python",
   "name": "python",
   "nbconvert_exporter": "python",
   "pygments_lexer": "ipython3",
   "version": "3.9.7"
  }
 },
 "nbformat": 4,
 "nbformat_minor": 5
}
