{
 "cells": [
  {
   "cell_type": "markdown",
   "id": "6b0e744e",
   "metadata": {},
   "source": [
    " "
   ]
  },
  {
   "cell_type": "markdown",
   "id": "1d57e09a",
   "metadata": {},
   "source": [
    " "
   ]
  },
  {
   "cell_type": "markdown",
   "id": "bad31a37",
   "metadata": {},
   "source": [
    "**6.** Una raiz primitiva módulo $p$ (siendo $p$ primo) es un entero $r \\in Z_p$  tal que todo elemento diferente de cero en $Z_P$ es una potencia de $r$. Codificar una función **es_raiz_primitiva(n,p)** que reciba un número entero positivo $n \\in Z_p$ **(o sea?)** y un número primo $p$ y cuyo output es **\"Si!\"** si es raiz primitiva módulo $p$ **\"NO!\"** en caso contrario."
   ]
  },
  {
   "cell_type": "markdown",
   "id": "a51f7a24",
   "metadata": {},
   "source": [
    " "
   ]
  },
  {
   "cell_type": "code",
   "execution_count": 2,
   "id": "ddf055b6",
   "metadata": {},
   "outputs": [],
   "source": [
    "def isPrime(n):\n",
    "    '''\n",
    "        input: n ->  Entero positivo\n",
    "        output: True or False\n",
    "        \n",
    "    '''\n",
    "    band =  0\n",
    "    for i in range(2,n):\n",
    "        if(n%i==0):\n",
    "            band+=1\n",
    "    if(n == 1):\n",
    "        return False\n",
    "    elif(band>0):\n",
    "        return False\n",
    "    else:\n",
    "        return True\n",
    "\n",
    "\n",
    "def es_raiz_primitiva(n,p):\n",
    "    '''\n",
    "    input: n -> entero positivo in Z_p (1 to p - 1) and p -> numero primo\n",
    "    output: SI! or NO!\n",
    "    '''\n",
    "    if(not(n < 1 or n >= p)):\n",
    "        \n",
    "        if(isPrime(p)):\n",
    "            \n",
    "            r = set()\n",
    "            rExpected = list(range(1,p))\n",
    "\n",
    "            for i in range(1,p):\n",
    "\n",
    "                r.add((n**i)%p)\n",
    "\n",
    "            rToList = list(r)\n",
    "\n",
    "            if(rToList == rExpected):\n",
    "                return \"Si!\"\n",
    "            else:\n",
    "                return \"NO!\"\n",
    "        else:\n",
    "            return \"Error: p is not prime number\"\n",
    "    else:\n",
    "        return \"Error: n not in Z_p\"\n",
    "        \n",
    "    "
   ]
  },
  {
   "cell_type": "code",
   "execution_count": 3,
   "id": "6857b242",
   "metadata": {},
   "outputs": [
    {
     "data": {
      "text/plain": [
       "'Si!'"
      ]
     },
     "execution_count": 3,
     "metadata": {},
     "output_type": "execute_result"
    }
   ],
   "source": [
    "es_raiz_primitiva(3,7)"
   ]
  },
  {
   "cell_type": "code",
   "execution_count": 4,
   "id": "2ef27351",
   "metadata": {},
   "outputs": [
    {
     "data": {
      "text/plain": [
       "'NO!'"
      ]
     },
     "execution_count": 4,
     "metadata": {},
     "output_type": "execute_result"
    }
   ],
   "source": [
    "es_raiz_primitiva(3,11)"
   ]
  },
  {
   "cell_type": "code",
   "execution_count": 5,
   "id": "8784e287",
   "metadata": {},
   "outputs": [
    {
     "data": {
      "text/plain": [
       "'Si!'"
      ]
     },
     "execution_count": 5,
     "metadata": {},
     "output_type": "execute_result"
    }
   ],
   "source": [
    "es_raiz_primitiva(5,7)"
   ]
  },
  {
   "cell_type": "code",
   "execution_count": 6,
   "id": "ad4735b8",
   "metadata": {},
   "outputs": [
    {
     "data": {
      "text/plain": [
       "'Error: n not in Z_p'"
      ]
     },
     "execution_count": 6,
     "metadata": {},
     "output_type": "execute_result"
    }
   ],
   "source": [
    "es_raiz_primitiva(5,4)"
   ]
  },
  {
   "cell_type": "code",
   "execution_count": 7,
   "id": "88581356",
   "metadata": {},
   "outputs": [
    {
     "data": {
      "text/plain": [
       "'Error: p is not prime number'"
      ]
     },
     "execution_count": 7,
     "metadata": {},
     "output_type": "execute_result"
    }
   ],
   "source": [
    "es_raiz_primitiva(3,4)"
   ]
  },
  {
   "cell_type": "code",
   "execution_count": 8,
   "id": "8d5f0b2f",
   "metadata": {},
   "outputs": [
    {
     "data": {
      "text/plain": [
       "'NO!'"
      ]
     },
     "execution_count": 8,
     "metadata": {},
     "output_type": "execute_result"
    }
   ],
   "source": [
    "es_raiz_primitiva(5,11)"
   ]
  },
  {
   "cell_type": "code",
   "execution_count": 9,
   "id": "c3ad4ba8",
   "metadata": {},
   "outputs": [
    {
     "data": {
      "text/plain": [
       "'Error: n not in Z_p'"
      ]
     },
     "execution_count": 9,
     "metadata": {},
     "output_type": "execute_result"
    }
   ],
   "source": [
    "es_raiz_primitiva(5,2)"
   ]
  },
  {
   "cell_type": "code",
   "execution_count": 10,
   "id": "7947c650",
   "metadata": {},
   "outputs": [
    {
     "data": {
      "text/plain": [
       "'Si!'"
      ]
     },
     "execution_count": 10,
     "metadata": {},
     "output_type": "execute_result"
    }
   ],
   "source": [
    "es_raiz_primitiva(1,2)"
   ]
  },
  {
   "cell_type": "code",
   "execution_count": 11,
   "id": "a68b153c",
   "metadata": {},
   "outputs": [
    {
     "data": {
      "text/plain": [
       "'Error: p is not prime number'"
      ]
     },
     "execution_count": 11,
     "metadata": {},
     "output_type": "execute_result"
    }
   ],
   "source": [
    "es_raiz_primitiva(3,15)"
   ]
  }
 ],
 "metadata": {
  "kernelspec": {
   "display_name": "Python 3 (ipykernel)",
   "language": "python",
   "name": "python3"
  },
  "language_info": {
   "codemirror_mode": {
    "name": "ipython",
    "version": 3
   },
   "file_extension": ".py",
   "mimetype": "text/x-python",
   "name": "python",
   "nbconvert_exporter": "python",
   "pygments_lexer": "ipython3",
   "version": "3.9.7"
  }
 },
 "nbformat": 4,
 "nbformat_minor": 5
}
