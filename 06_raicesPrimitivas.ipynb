{
 "cells": [
  {
   "cell_type": "markdown",
   "id": "bfc70e51",
   "metadata": {},
   "source": [
    " "
   ]
  },
  {
   "cell_type": "markdown",
   "id": "aac99524",
   "metadata": {},
   "source": [
    " "
   ]
  },
  {
   "cell_type": "markdown",
   "id": "228c0438",
   "metadata": {},
   "source": [
    "**6.** Una raiz primitiva módulo $p$ (siendo $p$ primo) es un entero $r \\in Z_p$  tal que todo elemento diferente de cero en $Z_P$ es una potencia de $r$. Codificar una función **es_raiz_primitiva(n,p)** que reciba un número entero positivo $n \\in Z_p$ **(o sea?)** y un número primo $p$ y cuyo output es **\"Si!\"** si es raiz primitiva módulo $p$ **\"NO!\"** en caso contrario."
   ]
  },
  {
   "cell_type": "markdown",
   "id": "bbce9afe",
   "metadata": {},
   "source": [
    " "
   ]
  },
  {
   "cell_type": "code",
   "execution_count": 47,
   "id": "fdaa0d99",
   "metadata": {},
   "outputs": [],
   "source": [
    "def isPrime(n):\n",
    "    '''\n",
    "        input: n ->  Entero positivo\n",
    "        output: True or False\n",
    "        \n",
    "    '''\n",
    "    band =  0\n",
    "    for i in range(2,n):\n",
    "        if(n%i==0):\n",
    "            band+=1\n",
    "    if(n == 1):\n",
    "        return False\n",
    "    elif(band>0):\n",
    "        return False\n",
    "    else:\n",
    "        return True\n",
    "\n",
    "\n",
    "def es_raiz_primitiva(n,p):\n",
    "    '''\n",
    "    input: n -> entero positivo in Z_p (1 to p - 1) and p -> numero primo\n",
    "    output: SI! or NO!\n",
    "    '''\n",
    "    if(not(n < 1 or n >= p)):\n",
    "        \n",
    "        if(isPrime(p)):\n",
    "            \n",
    "            r = set()\n",
    "            rExpected = list(range(1,p))\n",
    "\n",
    "            for i in range(1,p):\n",
    "\n",
    "                r.add((n**i)%p)\n",
    "\n",
    "            rToList = list(r)\n",
    "\n",
    "            if(rToList == rExpected):\n",
    "                return \"Si!\"\n",
    "            else:\n",
    "                return \"NO!\"\n",
    "        else:\n",
    "            return \"Error: p is not prime number\"\n",
    "    else:\n",
    "        return \"Error: n not in Z_p\"\n",
    "        \n",
    "    "
   ]
  },
  {
   "cell_type": "code",
   "execution_count": 48,
   "id": "557ae4bb",
   "metadata": {},
   "outputs": [
    {
     "data": {
      "text/plain": [
       "'Si!'"
      ]
     },
     "execution_count": 48,
     "metadata": {},
     "output_type": "execute_result"
    }
   ],
   "source": [
    "es_raiz_primitiva(3,7)"
   ]
  },
  {
   "cell_type": "code",
   "execution_count": 49,
   "id": "fc78d49d",
   "metadata": {},
   "outputs": [
    {
     "data": {
      "text/plain": [
       "'NO!'"
      ]
     },
     "execution_count": 49,
     "metadata": {},
     "output_type": "execute_result"
    }
   ],
   "source": [
    "es_raiz_primitiva(3,11)"
   ]
  },
  {
   "cell_type": "code",
   "execution_count": 50,
   "id": "1832d16d",
   "metadata": {},
   "outputs": [
    {
     "data": {
      "text/plain": [
       "'Si!'"
      ]
     },
     "execution_count": 50,
     "metadata": {},
     "output_type": "execute_result"
    }
   ],
   "source": [
    "es_raiz_primitiva(5,7)"
   ]
  },
  {
   "cell_type": "code",
   "execution_count": 51,
   "id": "058fa4d2",
   "metadata": {},
   "outputs": [
    {
     "data": {
      "text/plain": [
       "'Error: n not in Z_p'"
      ]
     },
     "execution_count": 51,
     "metadata": {},
     "output_type": "execute_result"
    }
   ],
   "source": [
    "es_raiz_primitiva(5,4)"
   ]
  },
  {
   "cell_type": "code",
   "execution_count": 52,
   "id": "96d1dc92",
   "metadata": {},
   "outputs": [
    {
     "data": {
      "text/plain": [
       "'Error: p is not prime number'"
      ]
     },
     "execution_count": 52,
     "metadata": {},
     "output_type": "execute_result"
    }
   ],
   "source": [
    "es_raiz_primitiva(3,4)"
   ]
  },
  {
   "cell_type": "code",
   "execution_count": 53,
   "id": "5f65123a",
   "metadata": {},
   "outputs": [
    {
     "data": {
      "text/plain": [
       "'NO!'"
      ]
     },
     "execution_count": 53,
     "metadata": {},
     "output_type": "execute_result"
    }
   ],
   "source": [
    "es_raiz_primitiva(5,11)"
   ]
  },
  {
   "cell_type": "code",
   "execution_count": 54,
   "id": "0593a263",
   "metadata": {},
   "outputs": [
    {
     "data": {
      "text/plain": [
       "'Error: n not in Z_p'"
      ]
     },
     "execution_count": 54,
     "metadata": {},
     "output_type": "execute_result"
    }
   ],
   "source": [
    "es_raiz_primitiva(5,2)"
   ]
  },
  {
   "cell_type": "code",
   "execution_count": 56,
   "id": "3bfa4e1d",
   "metadata": {},
   "outputs": [
    {
     "data": {
      "text/plain": [
       "'Si!'"
      ]
     },
     "execution_count": 56,
     "metadata": {},
     "output_type": "execute_result"
    }
   ],
   "source": [
    "es_raiz_primitiva(1,2)"
   ]
  },
  {
   "cell_type": "code",
   "execution_count": 57,
   "id": "f096ce81",
   "metadata": {},
   "outputs": [
    {
     "data": {
      "text/plain": [
       "'Error: p is not prime number'"
      ]
     },
     "execution_count": 57,
     "metadata": {},
     "output_type": "execute_result"
    }
   ],
   "source": [
    "es_raiz_primitiva(3,15)"
   ]
  },
  {
   "cell_type": "code",
   "execution_count": null,
   "id": "46094e26",
   "metadata": {},
   "outputs": [],
   "source": []
  }
 ],
 "metadata": {
  "kernelspec": {
   "display_name": "Python 3 (ipykernel)",
   "language": "python",
   "name": "python3"
  },
  "language_info": {
   "codemirror_mode": {
    "name": "ipython",
    "version": 3
   },
   "file_extension": ".py",
   "mimetype": "text/x-python",
   "name": "python",
   "nbconvert_exporter": "python",
   "pygments_lexer": "ipython3",
   "version": "3.9.7"
  }
 },
 "nbformat": 4,
 "nbformat_minor": 5
}
