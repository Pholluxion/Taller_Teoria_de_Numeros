{
 "cells": [
  {
   "cell_type": "markdown",
   "id": "92fc1920",
   "metadata": {},
   "source": [
    "  "
   ]
  },
  {
   "cell_type": "markdown",
   "id": "1c306e40",
   "metadata": {},
   "source": [
    "**7.** Los códigos ISBN-10 son códigos de 10 dígitos  asignados por el publicador. El dígito de verificación para la identificación ISBN-10 es un dígito o la letra X (para representar el número 10). Este dígito se selecciona dela siguiente forma $$x_{10} = \\sum_{i=1}^9ix_i(mod\\ 11)$$\n",
    "Codificar una función **digito_verificacion(n)** que reciba los primeros nueve digitos de un código y cuyo output sea: el código de verificación ISBN-10. (Ver pag. 291 Libro Kenneth,\"Discrete Mathematics and its applications\")"
   ]
  },
  {
   "cell_type": "markdown",
   "id": "addf396f",
   "metadata": {},
   "source": [
    "  "
   ]
  },
  {
   "cell_type": "code",
   "execution_count": 53,
   "id": "65a04447",
   "metadata": {},
   "outputs": [],
   "source": [
    "def digito_verificacion(n):\n",
    "    '''\n",
    "    input:  n -> Número de 9 digitos\n",
    "    output: código de verificación ISBN-10\n",
    "    '''    \n",
    "#     x = list(str(n))\n",
    "    x = list(n)\n",
    "    x10 = 0\n",
    "    i = 1\n",
    "    for x_i in x:\n",
    "        \n",
    "        x10 += i*int(x_i)  \n",
    "        i+=1\n",
    "    \n",
    "    return n+str(x10%11)\n",
    "    "
   ]
  },
  {
   "cell_type": "code",
   "execution_count": 56,
   "id": "1dcea48b",
   "metadata": {},
   "outputs": [
    {
     "data": {
      "text/plain": [
       "'0072880082'"
      ]
     },
     "execution_count": 56,
     "metadata": {},
     "output_type": "execute_result"
    }
   ],
   "source": [
    "n = \"007288008\"\n",
    "digito_verificacion(n)"
   ]
  },
  {
   "cell_type": "code",
   "execution_count": 58,
   "id": "ee5652c8",
   "metadata": {},
   "outputs": [
    {
     "data": {
      "text/plain": [
       "0"
      ]
     },
     "execution_count": 58,
     "metadata": {},
     "output_type": "execute_result"
    }
   ],
   "source": [
    "isbn10 = digito_verificacion(n)\n",
    "\n",
    "x = list(isbn10)\n",
    "x10 = 0\n",
    "i = 1\n",
    "for x_i in x:\n",
    "\n",
    "    x10 += i*int(x_i)  \n",
    "    i+=1\n",
    "    \n",
    "x10%11\n",
    "# ISBN is ok "
   ]
  },
  {
   "cell_type": "code",
   "execution_count": null,
   "id": "bb1212c4",
   "metadata": {},
   "outputs": [],
   "source": []
  }
 ],
 "metadata": {
  "kernelspec": {
   "display_name": "Python 3 (ipykernel)",
   "language": "python",
   "name": "python3"
  },
  "language_info": {
   "codemirror_mode": {
    "name": "ipython",
    "version": 3
   },
   "file_extension": ".py",
   "mimetype": "text/x-python",
   "name": "python",
   "nbconvert_exporter": "python",
   "pygments_lexer": "ipython3",
   "version": "3.9.7"
  }
 },
 "nbformat": 4,
 "nbformat_minor": 5
}
