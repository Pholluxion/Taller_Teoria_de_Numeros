{
 "cells": [
  {
   "cell_type": "markdown",
   "id": "50502f9b",
   "metadata": {},
   "source": [
    " "
   ]
  },
  {
   "cell_type": "markdown",
   "id": "ea853b1a",
   "metadata": {},
   "source": [
    "**4.** Codifique una función **mcd(a,b)** que reciba dos enteros positivos $a,b$ y cuyo output sea el valor del máximo común divisor entre $a$ y $b$.\n",
    "\n",
    "Adicionalmente cree una función llamada **primos_relativos(a,b)** cuyo output es **\"Si!\"** si  $a$ y $b$  son primos relativos y **\"NO!\"** en caso contrario."
   ]
  },
  {
   "cell_type": "markdown",
   "id": "0126b8a8",
   "metadata": {},
   "source": [
    " "
   ]
  },
  {
   "cell_type": "code",
   "execution_count": 132,
   "id": "54cfb569",
   "metadata": {},
   "outputs": [],
   "source": [
    "def mcd(a,b):\n",
    "    '''\n",
    "        input: a,b ->  Enteros positivos\n",
    "        output: mcd\n",
    "        \n",
    "    '''\n",
    "    \n",
    "    while(b>0):\n",
    "        \n",
    "        y0 = a%b\n",
    "        \n",
    "        if(y0 == 0):\n",
    "            \n",
    "            return b\n",
    "            \n",
    "        a = b\n",
    "        b = y0\n",
    "    "
   ]
  },
  {
   "cell_type": "code",
   "execution_count": 133,
   "id": "af688784",
   "metadata": {},
   "outputs": [
    {
     "data": {
      "text/plain": [
       "1"
      ]
     },
     "execution_count": 133,
     "metadata": {},
     "output_type": "execute_result"
    }
   ],
   "source": [
    "mcd(110,273)"
   ]
  },
  {
   "cell_type": "code",
   "execution_count": 134,
   "id": "342138ac",
   "metadata": {},
   "outputs": [
    {
     "data": {
      "text/plain": [
       "5"
      ]
     },
     "execution_count": 134,
     "metadata": {},
     "output_type": "execute_result"
    }
   ],
   "source": [
    "mcd(50,5)"
   ]
  },
  {
   "cell_type": "code",
   "execution_count": 135,
   "id": "25179361",
   "metadata": {},
   "outputs": [
    {
     "data": {
      "text/plain": [
       "3"
      ]
     },
     "execution_count": 135,
     "metadata": {},
     "output_type": "execute_result"
    }
   ],
   "source": [
    "mcd(150,39)"
   ]
  },
  {
   "cell_type": "code",
   "execution_count": 136,
   "id": "7900fdb4",
   "metadata": {},
   "outputs": [
    {
     "data": {
      "text/plain": [
       "3"
      ]
     },
     "execution_count": 136,
     "metadata": {},
     "output_type": "execute_result"
    }
   ],
   "source": [
    "mcd(501,240)"
   ]
  },
  {
   "cell_type": "code",
   "execution_count": 137,
   "id": "0202c505",
   "metadata": {},
   "outputs": [],
   "source": [
    "def primos_relativos(a,b):\n",
    "    '''\n",
    "        input: a,b ->  Enteros positivos\n",
    "        output:  \"Si!\" or \"NO!\" \n",
    "        \n",
    "    '''\n",
    "    \n",
    "    if(1 == mcd(a,b)):\n",
    "        return \"Si!\"\n",
    "    else:\n",
    "        return \"NO!\""
   ]
  },
  {
   "cell_type": "code",
   "execution_count": 138,
   "id": "5029f442",
   "metadata": {},
   "outputs": [
    {
     "data": {
      "text/plain": [
       "'NO!'"
      ]
     },
     "execution_count": 138,
     "metadata": {},
     "output_type": "execute_result"
    }
   ],
   "source": [
    "primos_relativos(150,39)"
   ]
  },
  {
   "cell_type": "code",
   "execution_count": 139,
   "id": "72b83937",
   "metadata": {},
   "outputs": [
    {
     "data": {
      "text/plain": [
       "'Si!'"
      ]
     },
     "execution_count": 139,
     "metadata": {},
     "output_type": "execute_result"
    }
   ],
   "source": [
    "primos_relativos(110,273)"
   ]
  },
  {
   "cell_type": "code",
   "execution_count": 140,
   "id": "cf1b8183",
   "metadata": {},
   "outputs": [
    {
     "data": {
      "text/plain": [
       "'Si!'"
      ]
     },
     "execution_count": 140,
     "metadata": {},
     "output_type": "execute_result"
    }
   ],
   "source": [
    "primos_relativos(10,29)"
   ]
  },
  {
   "cell_type": "code",
   "execution_count": 141,
   "id": "d15b6408",
   "metadata": {},
   "outputs": [
    {
     "data": {
      "text/plain": [
       "'NO!'"
      ]
     },
     "execution_count": 141,
     "metadata": {},
     "output_type": "execute_result"
    }
   ],
   "source": [
    "primos_relativos(60,30)"
   ]
  }
 ],
 "metadata": {
  "kernelspec": {
   "display_name": "Python 3 (ipykernel)",
   "language": "python",
   "name": "python3"
  },
  "language_info": {
   "codemirror_mode": {
    "name": "ipython",
    "version": 3
   },
   "file_extension": ".py",
   "mimetype": "text/x-python",
   "name": "python",
   "nbconvert_exporter": "python",
   "pygments_lexer": "ipython3",
   "version": "3.9.7"
  }
 },
 "nbformat": 4,
 "nbformat_minor": 5
}
