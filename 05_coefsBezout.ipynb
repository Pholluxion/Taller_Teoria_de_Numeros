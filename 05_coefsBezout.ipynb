{
 "cells": [
  {
   "cell_type": "markdown",
   "id": "6bb9f0f8",
   "metadata": {},
   "source": [
    " "
   ]
  },
  {
   "cell_type": "markdown",
   "id": "8d4cbe4a",
   "metadata": {},
   "source": [
    "**5.** Codificar una función **coefs_bezout(a,b)** que reciba dos números enteros positivos  $a,b$  y calcule los coeficientes de bezout. Es decir suoutput sean dos números $s$ y \"t\"  tales que $a*s + b*t = mcd(a,b)$.\n",
    "\n",
    "Adicionalmente cree una función **inverso_modulo(a,m)** cuyo output es un entero: elinverso de $a$ en $Z_m$."
   ]
  },
  {
   "cell_type": "markdown",
   "id": "0fad8cc3",
   "metadata": {},
   "source": [
    " "
   ]
  },
  {
   "cell_type": "code",
   "execution_count": 73,
   "id": "12bf77a6",
   "metadata": {},
   "outputs": [],
   "source": [
    "def mcd(a,b):\n",
    "    '''\n",
    "        input: a,b ->  Enteros positivos\n",
    "        output: mcd\n",
    "    '''\n",
    "    \n",
    "    while(b>0):\n",
    "        \n",
    "        y0 = a%b\n",
    "        \n",
    "        if(y0 == 0):    \n",
    "            return b\n",
    "            \n",
    "        a = b\n",
    "        b = y0\n",
    "        \n",
    "def coefs_bezout(a, b):\n",
    "    '''\n",
    "        input: a,b ->  Enteros positivos\n",
    "        output: s,t -> coeficientes de bezout  \n",
    "    '''\n",
    "    \n",
    "    if a == 0:\n",
    "        return (0, 1)\n",
    "    else:\n",
    "        s, t = coefs_bezout(b % a, a)\n",
    "        \n",
    "    return (t - (b // a) * s, s)\n",
    "\n",
    "\n",
    "def inverso_modulo(a, m):\n",
    "    '''\n",
    "        input: a,b ->  Enteros positivos\n",
    "        output: inverse of a in Z_m \n",
    "    '''\n",
    "    \n",
    "    MCD = mcd(a,m)\n",
    "    \n",
    "    s, t = coefs_bezout(a, m)\n",
    "    \n",
    "    if MCD != 1:\n",
    "        print('No existe el inverso modular de',a,' y ',m,' MCD diferente de 1')\n",
    "    else:\n",
    "        return s % m"
   ]
  },
  {
   "cell_type": "code",
   "execution_count": 74,
   "id": "58e573b0",
   "metadata": {},
   "outputs": [
    {
     "data": {
      "text/plain": [
       "(-67, 27)"
      ]
     },
     "execution_count": 74,
     "metadata": {},
     "output_type": "execute_result"
    }
   ],
   "source": [
    "coefs_bezout(110,273)"
   ]
  },
  {
   "cell_type": "code",
   "execution_count": 75,
   "id": "609e3cf0",
   "metadata": {},
   "outputs": [
    {
     "data": {
      "text/plain": [
       "(6, -23)"
      ]
     },
     "execution_count": 75,
     "metadata": {},
     "output_type": "execute_result"
    }
   ],
   "source": [
    "coefs_bezout(150,39)"
   ]
  },
  {
   "cell_type": "code",
   "execution_count": 76,
   "id": "65520eae",
   "metadata": {},
   "outputs": [
    {
     "data": {
      "text/plain": [
       "(1, -43)"
      ]
     },
     "execution_count": 76,
     "metadata": {},
     "output_type": "execute_result"
    }
   ],
   "source": [
    "coefs_bezout(990,23)"
   ]
  },
  {
   "cell_type": "code",
   "execution_count": 77,
   "id": "c42ac204",
   "metadata": {},
   "outputs": [
    {
     "data": {
      "text/plain": [
       "206"
      ]
     },
     "execution_count": 77,
     "metadata": {},
     "output_type": "execute_result"
    }
   ],
   "source": [
    "inverso_modulo(110,273)"
   ]
  },
  {
   "cell_type": "code",
   "execution_count": 78,
   "id": "ccede4f3",
   "metadata": {},
   "outputs": [
    {
     "name": "stdout",
     "output_type": "stream",
     "text": [
      "No existe el inverso modular de 150  y  39  MCD diferente de 1\n"
     ]
    }
   ],
   "source": [
    "inverso_modulo(150,39)"
   ]
  },
  {
   "cell_type": "code",
   "execution_count": 79,
   "id": "a3d0f74b",
   "metadata": {},
   "outputs": [
    {
     "data": {
      "text/plain": [
       "1"
      ]
     },
     "execution_count": 79,
     "metadata": {},
     "output_type": "execute_result"
    }
   ],
   "source": [
    "inverso_modulo(990,23)"
   ]
  }
 ],
 "metadata": {
  "kernelspec": {
   "display_name": "Python 3 (ipykernel)",
   "language": "python",
   "name": "python3"
  },
  "language_info": {
   "codemirror_mode": {
    "name": "ipython",
    "version": 3
   },
   "file_extension": ".py",
   "mimetype": "text/x-python",
   "name": "python",
   "nbconvert_exporter": "python",
   "pygments_lexer": "ipython3",
   "version": "3.9.7"
  }
 },
 "nbformat": 4,
 "nbformat_minor": 5
}
