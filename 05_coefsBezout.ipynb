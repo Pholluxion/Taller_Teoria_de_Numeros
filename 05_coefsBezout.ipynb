{
 "cells": [
  {
   "cell_type": "markdown",
   "id": "6bb9f0f8",
   "metadata": {},
   "source": [
    " "
   ]
  },
  {
   "cell_type": "markdown",
   "id": "8d4cbe4a",
   "metadata": {},
   "source": [
    "**5.** Codificar una función **coefs_bezout(a,b)** que reciba dos números enteros positivos  y calcule los coeficientes de bezout. Es decir suoutput sean dos números  y  tales que .Adicionalmente cree una función **inverso_modulo(a,m)** cuyo output es un entero: elinverso de  en ."
   ]
  },
  {
   "cell_type": "markdown",
   "id": "0fad8cc3",
   "metadata": {},
   "source": [
    " "
   ]
  },
  {
   "cell_type": "code",
   "execution_count": null,
   "id": "12bf77a6",
   "metadata": {},
   "outputs": [],
   "source": []
  }
 ],
 "metadata": {
  "kernelspec": {
   "display_name": "Python 3 (ipykernel)",
   "language": "python",
   "name": "python3"
  },
  "language_info": {
   "codemirror_mode": {
    "name": "ipython",
    "version": 3
   },
   "file_extension": ".py",
   "mimetype": "text/x-python",
   "name": "python",
   "nbconvert_exporter": "python",
   "pygments_lexer": "ipython3",
   "version": "3.9.7"
  }
 },
 "nbformat": 4,
 "nbformat_minor": 5
}
