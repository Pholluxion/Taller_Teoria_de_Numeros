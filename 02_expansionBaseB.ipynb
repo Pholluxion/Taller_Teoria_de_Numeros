{
 "cells": [
  {
   "cell_type": "markdown",
   "id": "d1e76ba7",
   "metadata": {},
   "source": [
    " "
   ]
  },
  {
   "cell_type": "markdown",
   "id": "2194ab03",
   "metadata": {},
   "source": [
    "**2.** Si $b>1$, sabemos que dado un entero positivo $n$, este se puede expresar de forma única de la forma $n=a_kb^k+a_{k-1}b^{k-1}+⋯+a_2b^2+a_1b+a_0$ donde $0 \\leq a_i < b$ y $a_k \\neq 0$ . Dicho de otra forma la expansión de $n$ en base $b$ es. Codifique una función **expansion(n,b)** que reciba $n,b$ **enteros positivos** con $b>1$  y que tenga como output la representación en base $b$ como una lista conlos valores , es decir: $[a_k,a_{k-1},\\dots,a_1,a_0]$. Por ejemplo **expansion(12,2)** el output será **[1,1,0,0]**."
   ]
  },
  {
   "cell_type": "markdown",
   "id": "f772697a",
   "metadata": {},
   "source": [
    "  "
   ]
  },
  {
   "cell_type": "code",
   "execution_count": 76,
   "id": "2c9654ff",
   "metadata": {},
   "outputs": [],
   "source": [
    "def expansion(n,b):\n",
    "    '''\n",
    "        input: n,b ->  Enteros positivos con b > 0\n",
    "        output: list []\n",
    "        \n",
    "    '''\n",
    "    output = []\n",
    "    \n",
    "    if(b>1):\n",
    "\n",
    "        while(n): \n",
    "            \n",
    "            output.append(n%b)\n",
    "            n //= b\n",
    "            \n",
    "        return output[::-1]\n",
    "    \n",
    "    else:\n",
    "     print(\"Error: b < 1\")"
   ]
  },
  {
   "cell_type": "code",
   "execution_count": 77,
   "id": "ccaaf983",
   "metadata": {},
   "outputs": [
    {
     "data": {
      "text/plain": [
       "[1, 1, 0, 0]"
      ]
     },
     "execution_count": 77,
     "metadata": {},
     "output_type": "execute_result"
    }
   ],
   "source": [
    "expansion(12,2)"
   ]
  },
  {
   "cell_type": "code",
   "execution_count": 78,
   "id": "d9212b6d",
   "metadata": {},
   "outputs": [
    {
     "data": {
      "text/plain": [
       "[1, 4, 4]"
      ]
     },
     "execution_count": 78,
     "metadata": {},
     "output_type": "execute_result"
    }
   ],
   "source": [
    "expansion(100,8)"
   ]
  },
  {
   "cell_type": "code",
   "execution_count": 81,
   "id": "e6557b88",
   "metadata": {},
   "outputs": [
    {
     "data": {
      "text/plain": [
       "[1, 2]"
      ]
     },
     "execution_count": 81,
     "metadata": {},
     "output_type": "execute_result"
    }
   ],
   "source": [
    "expansion(12,10)"
   ]
  },
  {
   "cell_type": "code",
   "execution_count": 82,
   "id": "e4e55b87",
   "metadata": {},
   "outputs": [
    {
     "data": {
      "text/plain": [
       "[1, 3, 0, 0]"
      ]
     },
     "execution_count": 82,
     "metadata": {},
     "output_type": "execute_result"
    }
   ],
   "source": [
    "expansion(200,5)"
   ]
  }
 ],
 "metadata": {
  "kernelspec": {
   "display_name": "Python 3 (ipykernel)",
   "language": "python",
   "name": "python3"
  },
  "language_info": {
   "codemirror_mode": {
    "name": "ipython",
    "version": 3
   },
   "file_extension": ".py",
   "mimetype": "text/x-python",
   "name": "python",
   "nbconvert_exporter": "python",
   "pygments_lexer": "ipython3",
   "version": "3.9.7"
  }
 },
 "nbformat": 4,
 "nbformat_minor": 5
}
